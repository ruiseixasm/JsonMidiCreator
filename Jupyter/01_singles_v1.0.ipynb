{
 "cells": [
  {
   "cell_type": "code",
   "execution_count": 1,
   "id": "5c80b7eb-1eff-48b0-9a1f-926665287e14",
   "metadata": {},
   "outputs": [],
   "source": [
    "import sys, os\n",
    "project_root = os.path.abspath(os.path.join(os.getcwd(), \"../\"))  # You are currently in \"/Jupyter\" folder\n",
    "src_path = os.path.join(project_root, \"src\")\n",
    "if src_path not in sys.path:\n",
    "    sys.path.append(src_path)\n",
    "\n",
    "from JsonMidiCreator import *"
   ]
  },
  {
   "cell_type": "code",
   "execution_count": 2,
   "id": "d2224a0c-1407-462d-82c5-ec653319d053",
   "metadata": {},
   "outputs": [],
   "source": [
    "clip_chords = Chord() * 4"
   ]
  },
  {
   "cell_type": "code",
   "execution_count": null,
   "id": "125cf6f6-5416-4e1a-baa9-3a7aa77cab44",
   "metadata": {},
   "outputs": [],
   "source": [
    "clip_chords >> Plot()"
   ]
  },
  {
   "cell_type": "code",
   "execution_count": null,
   "id": "8ea77c29-73fc-4e34-ac0f-7e0f79d352ba",
   "metadata": {},
   "outputs": [],
   "source": [
    "clip_chords << Foreach(1, 7, 3, 5)**Degree()"
   ]
  },
  {
   "cell_type": "code",
   "execution_count": null,
   "id": "2ab90adf-0adb-4d74-a9b7-db4fc9a8901a",
   "metadata": {},
   "outputs": [],
   "source": [
    "clip_chords >> Plot()"
   ]
  },
  {
   "cell_type": "code",
   "execution_count": null,
   "id": "9657febe-e725-42e2-a4bf-a095651d03b6",
   "metadata": {},
   "outputs": [],
   "source": [
    "part_chords = Part(clip_chords)"
   ]
  },
  {
   "cell_type": "code",
   "execution_count": null,
   "id": "e1463b7c-d337-4e58-887b-dcee3d904e3d",
   "metadata": {},
   "outputs": [],
   "source": [
    "part_chords >> Plot()"
   ]
  },
  {
   "cell_type": "code",
   "execution_count": null,
   "id": "d4ee256c-27b7-4f11-b187-84ac311a7288",
   "metadata": {},
   "outputs": [],
   "source": [
    "song_chords = Song() + part_chords"
   ]
  },
  {
   "cell_type": "code",
   "execution_count": null,
   "id": "4c6f8e31-b1e2-406b-baf5-290950b91286",
   "metadata": {},
   "outputs": [],
   "source": [
    "song_chords >> Plot()"
   ]
  },
  {
   "cell_type": "code",
   "execution_count": null,
   "id": "9f6f1d52-fd2c-4eb4-9371-54412f429ea2",
   "metadata": {},
   "outputs": [],
   "source": [
    "song_chords >> Loop(1, 2) >> Plot()"
   ]
  },
  {
   "cell_type": "code",
   "execution_count": null,
   "id": "e9875f07-50dc-41d7-ae54-16b8bfc58887",
   "metadata": {},
   "outputs": [],
   "source": [
    "song_chords *= part_chords"
   ]
  },
  {
   "cell_type": "code",
   "execution_count": null,
   "id": "6f244669-755d-48ef-a564-39e50a319763",
   "metadata": {},
   "outputs": [],
   "source": [
    "song_chords >> Plot()"
   ]
  },
  {
   "cell_type": "code",
   "execution_count": null,
   "id": "90b33154-b86f-4b1f-b9ab-bcc83a07989e",
   "metadata": {},
   "outputs": [],
   "source": [
    "song_chords[1] += Measures(4)"
   ]
  },
  {
   "cell_type": "code",
   "execution_count": null,
   "id": "6c59e5dd-a37d-468f-9960-57b745e744c5",
   "metadata": {},
   "outputs": [],
   "source": [
    "song_chords >> Plot()"
   ]
  },
  {
   "cell_type": "code",
   "execution_count": null,
   "id": "09d3b1cb-5963-46c8-8567-345e18192ccb",
   "metadata": {},
   "outputs": [],
   "source": [
    "song_chords * 2 >> Plot()"
   ]
  },
  {
   "cell_type": "code",
   "execution_count": null,
   "id": "706bb56e-5995-47a3-b938-7cc328c078fc",
   "metadata": {},
   "outputs": [],
   "source": [
    "song_chords / 2 >> Plot()"
   ]
  },
  {
   "cell_type": "code",
   "execution_count": null,
   "id": "ecd99da7-f377-4fc3-a9c0-a6e3b95357de",
   "metadata": {},
   "outputs": [],
   "source": [
    "song_chords % Length() % Fraction()"
   ]
  },
  {
   "cell_type": "code",
   "execution_count": null,
   "id": "3b3e2911-84d6-45b5-acc2-cec29c8df699",
   "metadata": {},
   "outputs": [],
   "source": [
    "song_chords * 2 % Length() % Fraction()"
   ]
  },
  {
   "cell_type": "code",
   "execution_count": null,
   "id": "b4c98a10-97da-479a-aca9-789ccd4abc54",
   "metadata": {},
   "outputs": [],
   "source": [
    "song_chords / 2 % Length() % Fraction()"
   ]
  },
  {
   "cell_type": "code",
   "execution_count": null,
   "id": "e961b8c9-5828-4432-b020-9208080450ec",
   "metadata": {
    "scrolled": true
   },
   "outputs": [],
   "source": [
    "song_chords.finish() % float()"
   ]
  },
  {
   "cell_type": "code",
   "execution_count": null,
   "id": "4f32af3f-a663-4019-a0c3-d44546f5099e",
   "metadata": {},
   "outputs": [],
   "source": [
    "clip_chords >> Loop(1, 2) >> Tie() >> Plot()"
   ]
  },
  {
   "cell_type": "code",
   "execution_count": null,
   "id": "e858fa45-903e-48df-9aef-4cf20d9744a9",
   "metadata": {},
   "outputs": [],
   "source": [
    "part_chords >> Plot()"
   ]
  },
  {
   "cell_type": "code",
   "execution_count": null,
   "id": "3d52f08a-4010-49d2-9d8c-79ea2be49d97",
   "metadata": {},
   "outputs": [],
   "source": [
    "part_chords >> Loop(1, 2) >> Plot()"
   ]
  },
  {
   "cell_type": "code",
   "execution_count": null,
   "id": "61c43624-bdb3-4565-b2f9-0b5e3e8607e7",
   "metadata": {},
   "outputs": [],
   "source": [
    "song_chords >> Plot()"
   ]
  },
  {
   "cell_type": "code",
   "execution_count": null,
   "id": "9a9b7ec5-6443-4b30-85a8-e64d4488e716",
   "metadata": {},
   "outputs": [],
   "source": [
    "song_loop = song_chords >> Loop(1, 4) >> Plot()"
   ]
  },
  {
   "cell_type": "code",
   "execution_count": null,
   "id": "7ae6bd0e-90db-4060-bdb7-9343384bd375",
   "metadata": {},
   "outputs": [],
   "source": [
    "song_loop[0] >> Plot()"
   ]
  },
  {
   "cell_type": "code",
   "execution_count": null,
   "id": "244d5260-4d98-40e2-bb2e-e7e96c696fa1",
   "metadata": {},
   "outputs": [],
   "source": [
    "song_loop % int()"
   ]
  },
  {
   "cell_type": "code",
   "execution_count": null,
   "id": "a73e424f-588f-437e-bf5b-406c1d72dd54",
   "metadata": {},
   "outputs": [],
   "source": [
    "song_loop[1] >> Plot()"
   ]
  },
  {
   "cell_type": "code",
   "execution_count": null,
   "id": "1cae15ec-e421-4022-941e-91deb21db2b9",
   "metadata": {},
   "outputs": [],
   "source": [
    "song_chords[0] >> Plot()"
   ]
  },
  {
   "cell_type": "code",
   "execution_count": null,
   "id": "83e6530a-6706-4b1b-ad46-47c650818620",
   "metadata": {},
   "outputs": [],
   "source": [
    "song_chords[0] >> Loop(1, 4) >> Plot()"
   ]
  },
  {
   "cell_type": "code",
   "execution_count": null,
   "id": "df48cc82-ff59-4daf-8a54-9d10eded3ba0",
   "metadata": {},
   "outputs": [],
   "source": [
    "clip_chords + Beat(1) >> Plot()"
   ]
  },
  {
   "cell_type": "code",
   "execution_count": null,
   "id": "a7b0dd90-f216-4598-9a86-cfc244b3b3ad",
   "metadata": {},
   "outputs": [],
   "source": [
    "(clip_chords + Beat(1) >> Loop(1, 2)) * 2 >> Plot()"
   ]
  },
  {
   "cell_type": "code",
   "execution_count": null,
   "id": "79910391-961a-4f49-b777-4b90f6971120",
   "metadata": {},
   "outputs": [],
   "source": [
    "song_chords >> Plot()"
   ]
  },
  {
   "cell_type": "code",
   "execution_count": null,
   "id": "a33e55ea-ad83-4aa9-aeb3-0ed6c03fcb4a",
   "metadata": {},
   "outputs": [],
   "source": [
    "song_loop = song_chords >> Loop(0, 6) >> Plot()"
   ]
  },
  {
   "cell_type": "code",
   "execution_count": null,
   "id": "1fcce5cd-9b00-4411-82d4-84610174d547",
   "metadata": {},
   "outputs": [],
   "source": [
    "song_loop * 2 >> Plot()"
   ]
  }
 ],
 "metadata": {
  "kernelspec": {
   "display_name": "Python 3 (ipykernel)",
   "language": "python",
   "name": "python3"
  },
  "language_info": {
   "codemirror_mode": {
    "name": "ipython",
    "version": 3
   },
   "file_extension": ".py",
   "mimetype": "text/x-python",
   "name": "python",
   "nbconvert_exporter": "python",
   "pygments_lexer": "ipython3",
   "version": "3.13.1"
  }
 },
 "nbformat": 4,
 "nbformat_minor": 5
}
