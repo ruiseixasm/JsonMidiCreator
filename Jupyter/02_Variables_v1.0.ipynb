{
 "cells": [
  {
   "cell_type": "code",
   "execution_count": 1,
   "id": "faf82562-1bde-4a5f-afbe-007d3cdbe269",
   "metadata": {},
   "outputs": [],
   "source": [
    "import sys, os\n",
    "project_root = os.path.abspath(os.path.join(os.getcwd(), \"../\"))  # You are currently in \"/Jupyter\" folder\n",
    "src_path = os.path.join(project_root, \"src\")\n",
    "if src_path not in sys.path:\n",
    "    sys.path.append(src_path)\n",
    "\n",
    "from JsonMidiCreator import *"
   ]
  },
  {
   "cell_type": "code",
   "execution_count": 2,
   "id": "608c072c-9da7-4c1a-bdbc-42b5e386b17a",
   "metadata": {},
   "outputs": [],
   "source": [
    "chained_duration = Duration()**Length(1)"
   ]
  },
  {
   "cell_type": "code",
   "execution_count": 3,
   "id": "42dc07ef-4877-4619-86c4-d164d7ef88bf",
   "metadata": {},
   "outputs": [
    {
     "data": {
      "text/plain": [
       "<operand_generic.Defaults at 0x1cf4153c1a0>"
      ]
     },
     "execution_count": 3,
     "metadata": {},
     "output_type": "execute_result"
    }
   ],
   "source": [
    "defaults << TimeSignature(2, 4)"
   ]
  },
  {
   "cell_type": "code",
   "execution_count": 4,
   "id": "60f0aa1f-2557-4111-bfc5-2d04195251b8",
   "metadata": {},
   "outputs": [],
   "source": [
    "single_note = Note()"
   ]
  },
  {
   "cell_type": "code",
   "execution_count": 5,
   "id": "1ca766f5-a14e-4001-9d21-b02b1b711970",
   "metadata": {},
   "outputs": [
    {
     "data": {
      "text/plain": [
       "0.25"
      ]
     },
     "execution_count": 5,
     "metadata": {},
     "output_type": "execute_result"
    }
   ],
   "source": [
    "single_note % Duration() % float()"
   ]
  },
  {
   "cell_type": "code",
   "execution_count": 6,
   "id": "f5b5b5e3-c8e6-4626-b515-cc3a68610358",
   "metadata": {},
   "outputs": [
    {
     "data": {
      "text/plain": [
       "0.5"
      ]
     },
     "execution_count": 6,
     "metadata": {},
     "output_type": "execute_result"
    }
   ],
   "source": [
    "single_note % Length() % float()"
   ]
  },
  {
   "cell_type": "code",
   "execution_count": 7,
   "id": "ee2159f6-8936-40bb-aa9b-82bc11231028",
   "metadata": {},
   "outputs": [
    {
     "data": {
      "text/plain": [
       "0.0"
      ]
     },
     "execution_count": 7,
     "metadata": {},
     "output_type": "execute_result"
    }
   ],
   "source": [
    "chained_duration % float()"
   ]
  },
  {
   "cell_type": "code",
   "execution_count": 8,
   "id": "20acd611-108c-4822-b731-f635189ca440",
   "metadata": {},
   "outputs": [
    {
     "data": {
      "text/plain": [
       "<operand_element.Note at 0x1cf495a6cf0>"
      ]
     },
     "execution_count": 8,
     "metadata": {},
     "output_type": "execute_result"
    }
   ],
   "source": [
    "single_note << Duration()**Length(1)"
   ]
  },
  {
   "cell_type": "code",
   "execution_count": 9,
   "id": "3c68cffb-1273-401b-b72e-5dfb801c8349",
   "metadata": {},
   "outputs": [
    {
     "data": {
      "text/plain": [
       "0.0"
      ]
     },
     "execution_count": 9,
     "metadata": {},
     "output_type": "execute_result"
    }
   ],
   "source": [
    "single_note % Duration() % float()"
   ]
  },
  {
   "cell_type": "code",
   "execution_count": null,
   "id": "e272d1c8-78dd-4730-9adc-64392bce88d2",
   "metadata": {},
   "outputs": [],
   "source": []
  }
 ],
 "metadata": {
  "kernelspec": {
   "display_name": "Python 3 (ipykernel)",
   "language": "python",
   "name": "python3"
  },
  "language_info": {
   "codemirror_mode": {
    "name": "ipython",
    "version": 3
   },
   "file_extension": ".py",
   "mimetype": "text/x-python",
   "name": "python",
   "nbconvert_exporter": "python",
   "pygments_lexer": "ipython3",
   "version": "3.13.1"
  }
 },
 "nbformat": 4,
 "nbformat_minor": 5
}
