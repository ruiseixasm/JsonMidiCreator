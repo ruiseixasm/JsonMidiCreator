{
 "cells": [
  {
   "cell_type": "markdown",
   "id": "037a410c-ff86-4c47-9a32-711f6747dc00",
   "metadata": {},
   "source": [
    "# Start by importing the **JsonMidiCreator** library"
   ]
  },
  {
   "cell_type": "code",
   "execution_count": null,
   "id": "62ae4455-661e-47ee-9409-0296b0cceeb4",
   "metadata": {},
   "outputs": [],
   "source": [
    "import sys, os\n",
    "project_root = os.path.abspath(os.path.join(os.getcwd(), \"../../\"))  # You are currently in \"/Jupyter/[project]\" folder\n",
    "src_path = os.path.join(project_root, \"src\")\n",
    "if src_path not in sys.path:\n",
    "    sys.path.append(src_path)\n",
    "\n",
    "from JsonMidiCreator import *"
   ]
  },
  {
   "cell_type": "markdown",
   "id": "e429044a-5dd4-4b84-87e8-97500d69b091",
   "metadata": {},
   "source": [
    "## Write basic Chord progression"
   ]
  },
  {
   "cell_type": "markdown",
   "id": "fa2ec979-682b-424e-a5e4-9cf700ce1e40",
   "metadata": {},
   "source": [
    "Example taken from: https://medium.com/pragmatic-sound/create-an-effective-melody-8ff0a89ab7ba"
   ]
  },
  {
   "cell_type": "code",
   "execution_count": null,
   "id": "5ab87547-ed65-48b5-8930-d230683074f8",
   "metadata": {},
   "outputs": [],
   "source": [
    "clip_chords = Chord(\"A\", Scale(\"minor\")) / Chord(\"F\", Scale(\"Major\")) / Chord(\"C\", Scale(\"Major\")) / Chord(\"G\", Scale(\"Major\"))"
   ]
  },
  {
   "cell_type": "code",
   "execution_count": null,
   "id": "8a56ae8c-1483-4e6b-b88c-7c8bc3769842",
   "metadata": {},
   "outputs": [],
   "source": [
    "clip_chords << Foreach(2, 0, 1, 0)**Inversion() << Foreach(1, 2, 2, 2)**Octave()"
   ]
  },
  {
   "cell_type": "code",
   "execution_count": null,
   "id": "c803f6e9-7494-4f22-8fd6-46243d47c61b",
   "metadata": {},
   "outputs": [],
   "source": [
    "clip_chords >> Plot()"
   ]
  },
  {
   "cell_type": "code",
   "execution_count": null,
   "id": "bdab77da-915e-419d-a94e-08c298721211",
   "metadata": {},
   "outputs": [],
   "source": [
    "# Here the usage of ~ makes a copy of clip_chords\n",
    "clip_bass = ~clip_chords << Octave(1) << Size(1) << Inversion(0)"
   ]
  },
  {
   "cell_type": "code",
   "execution_count": null,
   "id": "caa2f534-7e2d-4157-9d99-3021226f9dc7",
   "metadata": {},
   "outputs": [],
   "source": [
    "clip_bass >> Plot()"
   ]
  },
  {
   "cell_type": "code",
   "execution_count": null,
   "id": "2ecd7747-c9c7-46e1-b24c-9aefdbb87fb2",
   "metadata": {},
   "outputs": [],
   "source": [
    "clip_togehter = clip_chords + clip_bass"
   ]
  },
  {
   "cell_type": "code",
   "execution_count": null,
   "id": "2128020e-b310-4f4c-b03f-16c33c6cfbd7",
   "metadata": {},
   "outputs": [],
   "source": [
    "clip_togehter >> Plot()"
   ]
  },
  {
   "cell_type": "code",
   "execution_count": null,
   "id": "3680ba48-360e-4a2f-ac05-6b57b06a0878",
   "metadata": {},
   "outputs": [],
   "source": [
    "clip_melody = ~clip_bass << Foreach(3, 3, 4, 3)**Octave()"
   ]
  },
  {
   "cell_type": "code",
   "execution_count": null,
   "id": "38138fa7-4081-4726-b4c5-cd0983742ab2",
   "metadata": {},
   "outputs": [],
   "source": [
    "clip_melody >> Plot()"
   ]
  },
  {
   "cell_type": "code",
   "execution_count": null,
   "id": "b01eaa84-4454-4834-a6a8-f214d0a8850e",
   "metadata": {},
   "outputs": [],
   "source": [
    "# `decompose` makes all `Chord` elements become a single note each\n",
    "clip_melody.decompose() >> Plot()"
   ]
  },
  {
   "cell_type": "code",
   "execution_count": null,
   "id": "46ab62ea-6956-40f7-b5c0-31725e5b109a",
   "metadata": {},
   "outputs": [],
   "source": [
    "clip_melody / Length(4) >> Plot()"
   ]
  },
  {
   "cell_type": "markdown",
   "id": "970ff4a0-8aeb-464e-8c7e-d0c5effec1c8",
   "metadata": {},
   "source": [
    "## Developing melody with Frames only"
   ]
  },
  {
   "cell_type": "code",
   "execution_count": null,
   "id": "17e104cf-042f-4d4b-bde2-27f146061d5e",
   "metadata": {},
   "outputs": [],
   "source": [
    "# The operator // on `Length` is the number of divisions, fragments of the resultant `Element` `Length`\n",
    "framed_melody = clip_melody // Length(4)"
   ]
  },
  {
   "cell_type": "code",
   "execution_count": null,
   "id": "7ad94bf4-5873-4a37-9678-cecf1fbd2295",
   "metadata": {},
   "outputs": [],
   "source": [
    "framed_melody >> Plot()"
   ]
  },
  {
   "cell_type": "code",
   "execution_count": null,
   "id": "aa3d03ce-2141-42c7-9833-41567976c6fb",
   "metadata": {},
   "outputs": [],
   "source": [
    "framed_melody //= Less(Beat(2))**Length(2)\n",
    "framed_melody //= Step(15)\n",
    "framed_melody >> Plot()"
   ]
  },
  {
   "cell_type": "code",
   "execution_count": null,
   "id": "a3d4fe30-bc2e-4812-a605-837c7ce9bb00",
   "metadata": {},
   "outputs": [],
   "source": [
    "clip_togehter + framed_melody >> Plot()"
   ]
  },
  {
   "cell_type": "markdown",
   "id": "a85c4088-4815-4674-963b-72ab2c8fe449",
   "metadata": {},
   "source": [
    "## Developing melody with a Mask"
   ]
  },
  {
   "cell_type": "code",
   "execution_count": null,
   "id": "c0b455ca-20e4-4775-b372-b336eef9cf4c",
   "metadata": {},
   "outputs": [],
   "source": [
    "# The operator // Length splits each Clip Element by the given Length amount\n",
    "masked_melody = clip_melody // Length(4)"
   ]
  },
  {
   "cell_type": "code",
   "execution_count": null,
   "id": "d6d8fd20-fd56-464e-81e0-fd15e94e5bfb",
   "metadata": {},
   "outputs": [],
   "source": [
    "masked_melody >> Plot()"
   ]
  },
  {
   "cell_type": "code",
   "execution_count": null,
   "id": "032cf9cd-6fcc-4fa4-8153-49a2f8094aaa",
   "metadata": {},
   "outputs": [],
   "source": [
    "# Masks can't be copied, so, all operators are equivalent to their inline operator\n",
    "masked_melody.mask(Or(Beat(0), Beat(1))).floordiv(Length(2))\n",
    "masked_melody //= Step(15)\n",
    "masked_melody >> Plot()"
   ]
  },
  {
   "cell_type": "code",
   "execution_count": null,
   "id": "0ccb0955-d6bc-474e-aeb6-db0a6790e84a",
   "metadata": {},
   "outputs": [],
   "source": [
    "clip_togehter + masked_melody >> Plot()"
   ]
  },
  {
   "cell_type": "markdown",
   "id": "b56ecb4d-d874-4332-80e9-7500d2c460da",
   "metadata": {},
   "source": [
    "**The problem with using `// Length` is that if repeated it will split it even more, so it's recursive**"
   ]
  },
  {
   "cell_type": "markdown",
   "id": "abaab141-c920-4d22-b9fa-0d2a8f336921",
   "metadata": {},
   "source": [
    "## Using `Duration` instead of `Length` to split each `Element` in a `Clip`"
   ]
  },
  {
   "cell_type": "markdown",
   "id": "2135804a-14c4-481e-8198-00ed407858f9",
   "metadata": {},
   "source": [
    "The advantage of using `// Duration` is that if repeated it will **NOT** split it even more, so it's **NOT** recursive"
   ]
  },
  {
   "cell_type": "code",
   "execution_count": null,
   "id": "474d088d-b490-4054-a571-2f0ebc7dc089",
   "metadata": {},
   "outputs": [],
   "source": [
    "# Starting by creating a copy of clip_melody Clip\n",
    "duration_melody = ~clip_melody       # ~ does a copy\n",
    "duration_melody >> Plot()"
   ]
  },
  {
   "cell_type": "code",
   "execution_count": null,
   "id": "39fbacbc-9e3b-46f0-9b3c-956ed9360aa6",
   "metadata": {},
   "outputs": [],
   "source": [
    "# Present Chord scale in use\n",
    "duration_melody[0] % Scale() % str()"
   ]
  },
  {
   "cell_type": "code",
   "execution_count": null,
   "id": "493dc49b-159f-4812-8234-be464ec758af",
   "metadata": {},
   "outputs": [],
   "source": [
    "# It is possible to make adjustments at any point of the workflow and thus became replicated bellow\n",
    "duration_melody <<= Scale(\"minor\")   # <<= parameter is equivalent to << Pipe(parameter)\n",
    "# The operator `// NoteValue` splits each Clip Element by the given `NoteValue` given to each `Element`\n",
    "duration_melody //= NoteValue(1/4)"
   ]
  },
  {
   "cell_type": "code",
   "execution_count": null,
   "id": "e84dbdee-a898-44f5-8aad-e94189ded6d2",
   "metadata": {},
   "outputs": [],
   "source": [
    "# Makes sure the Chord scale is indeed \"minor\"\n",
    "duration_melody[0] % Scale() % str()"
   ]
  },
  {
   "cell_type": "code",
   "execution_count": null,
   "id": "ff185f7f-5c98-47f6-b46d-9b2c250316d9",
   "metadata": {},
   "outputs": [],
   "source": [
    "duration_melody[0] % Scale() >> Plot()"
   ]
  },
  {
   "cell_type": "code",
   "execution_count": null,
   "id": "48724c1a-9d60-41bb-acbf-592216ab1c30",
   "metadata": {},
   "outputs": [],
   "source": [
    "duration_melody >> Plot()"
   ]
  },
  {
   "cell_type": "code",
   "execution_count": null,
   "id": "1ad71224-3a9a-491c-98a0-76963c1e32ac",
   "metadata": {},
   "outputs": [],
   "source": [
    "# Check which Key is the first Note\n",
    "duration_melody[0] % Key() % str()"
   ]
  },
  {
   "cell_type": "code",
   "execution_count": null,
   "id": "37723657-75d5-4d04-be36-066b71e78c80",
   "metadata": {},
   "outputs": [],
   "source": [
    "# Check the Degree of the first Note\n",
    "duration_melody[0] % Degree() % str()"
   ]
  },
  {
   "cell_type": "code",
   "execution_count": null,
   "id": "41db1e77-be40-4787-b403-c016ff95ae12",
   "metadata": {},
   "outputs": [],
   "source": [
    "duration_melody //= Less(Beat(2))**NoteValue(1/8)\n",
    "duration_melody //= Step(15)\n",
    "duration_melody >> Plot()"
   ]
  },
  {
   "cell_type": "code",
   "execution_count": null,
   "id": "a176c80b-f5bc-4a0e-8f16-44ddf02eaaec",
   "metadata": {},
   "outputs": [],
   "source": [
    "clip_togehter + duration_melody >> Plot()"
   ]
  },
  {
   "cell_type": "code",
   "execution_count": null,
   "id": "406b6292-b737-472f-986b-fcaab3f17d47",
   "metadata": {},
   "outputs": [],
   "source": [
    "# Doing `Clip >> Measure(0)` is equivalent to `Clip >> Mask(Measure(0))`\n",
    "duration_melody >> Measure(0) << Once(1, 1, 3, 3, 5)**Degree() << Equal(Beats(3))**Duration(1/8)"
   ]
  },
  {
   "cell_type": "code",
   "execution_count": null,
   "id": "173b0eff-c5b6-402f-9119-802ec41e6102",
   "metadata": {},
   "outputs": [],
   "source": [
    "duration_melody >> Plot()"
   ]
  },
  {
   "cell_type": "code",
   "execution_count": null,
   "id": "e5b0a680-4630-4d2f-9395-e0d7ddb6e875",
   "metadata": {},
   "outputs": [],
   "source": [
    "# Check multiple parameters of 3rd Note at once\n",
    "duration_melody[2] % ((TonicKey(), str()), (RootKey(), str()), (TargetKey(), str()), (Degree(), str()), (Transposition(), int()), (Pitch(), float()))"
   ]
  },
  {
   "cell_type": "code",
   "execution_count": null,
   "id": "1c1306b3-1f76-46cc-8f26-b449aab63902",
   "metadata": {},
   "outputs": [],
   "source": [
    "clip_togehter + duration_melody >> Plot()"
   ]
  },
  {
   "cell_type": "code",
   "execution_count": null,
   "id": "b9aee08f-2a11-4896-84f9-6d29a02b848a",
   "metadata": {},
   "outputs": [],
   "source": [
    "# Resets the Key Signature for a Major C\n",
    "duration_melody << Scale(None)\n",
    "# Remove all existing Degrees to start all of them at the `Tonic`\n",
    "duration_melody << Degree(1)\n",
    "# Sets a specific scale for each Measure\n",
    "duration_melody >> Measure(0) << Scale(\"minor\")\n",
    "duration_melody >> Greater(Measure(0)) << Scale(\"Major\")\n",
    "# Tone is the key value in a single octave from 0 to 11, by setting with `<<`, it reamins in the smae `Octave`\n",
    "duration_melody << Foreach(1, 1, 3, 3, 5, 1, 1)**Subtract(1)**Tones() << Equal(Step(12))**(1/8)\n",
    "# This line makes sure all Notes bellow A3 will be raise up to Octave 4\n",
    "duration_melody << Less(Pitch(\"A\", Octave(3)))**Octave(4)\n",
    "# Prints the result right away\n",
    "duration_melody >> Plot()"
   ]
  },
  {
   "cell_type": "code",
   "execution_count": null,
   "id": "ac27ed12-0b72-4a14-a894-a174f81bef96",
   "metadata": {},
   "outputs": [],
   "source": [
    "# Readjust Octaves based on the previous output << is better because avoid cyclic repetitions\n",
    "duration_melody << Equal(Measure(2), Beat(2))**Octave(3) << Equal(Measure(3), Beat(3))**Octave(4)\n",
    "# Prints the result right away\n",
    "duration_melody >> Plot()"
   ]
  },
  {
   "cell_type": "code",
   "execution_count": null,
   "id": "a075d4ff-56d6-49a6-ba96-03004d78942a",
   "metadata": {},
   "outputs": [],
   "source": [
    "# Check multiple parameters of 3rd Note at once\n",
    "duration_melody[2] % ((TonicKey(), str()), (RootKey(), str()), (TargetKey(), str()), (Degree(), str()), (Transposition(), int()), (Pitch(), Scale(), str()))"
   ]
  },
  {
   "cell_type": "code",
   "execution_count": null,
   "id": "0c5bc5bf-6aab-4367-87b6-6f3b7c0df1eb",
   "metadata": {},
   "outputs": [],
   "source": [
    "clip_togehter // duration_melody >> Plot()"
   ]
  },
  {
   "cell_type": "code",
   "execution_count": null,
   "id": "cbcd6232-a953-4c05-b51f-a44ff3aee222",
   "metadata": {},
   "outputs": [],
   "source": [
    "# Working a copy inside a cell avoids recursive operations that result in repeated actions\n",
    "spiced_melody = ~duration_melody\n",
    "spiced_melody += NotEqual(Measure(2))**Equal(Step(6))**Degree(1)\n",
    "spiced_melody -= Equal(Measure(2), Step(4))**Transposition(1)\n",
    "spiced_melody >> Plot()"
   ]
  },
  {
   "cell_type": "code",
   "execution_count": null,
   "id": "b42f2554-7888-4fb6-bf73-a1b2b322c671",
   "metadata": {},
   "outputs": [],
   "source": [
    "# Check multiple parameters of 3rd Note at once\n",
    "spiced_melody[10] % ((TonicKey(), str()), (RootKey(), str()), (TargetKey(), str()), (Degree(), str()), (Transposition(), int()), (Pitch(), Scale(), str()))"
   ]
  },
  {
   "cell_type": "code",
   "execution_count": null,
   "id": "c3b28830-e8a8-4c46-9be0-ae29167b27eb",
   "metadata": {},
   "outputs": [],
   "source": [
    "clip_togehter // spiced_melody >> Plot()"
   ]
  },
  {
   "cell_type": "code",
   "execution_count": null,
   "id": "b96c0e71-05dc-4f69-989b-a5f39c0c7769",
   "metadata": {},
   "outputs": [],
   "source": [
    "spiced_melody[0] % Pitch() % int()"
   ]
  },
  {
   "cell_type": "code",
   "execution_count": null,
   "id": "53d42d0d-de27-47e4-a5a7-44f3ef0d5cc0",
   "metadata": {},
   "outputs": [],
   "source": [
    "# Because there is conflict with the Bass Notes, whe need to move up one Octave those notes\n",
    "spiced_melody.mask(Less(spiced_melody[0] % Pitch())) >> Plot()"
   ]
  },
  {
   "cell_type": "code",
   "execution_count": null,
   "id": "e777967f-2618-4dc9-be08-cdacdc289a1c",
   "metadata": {},
   "outputs": [],
   "source": [
    "spiced_melody.mask(Less(spiced_melody[0] % Pitch())).add(Octave(1)) >> Plot()"
   ]
  },
  {
   "cell_type": "code",
   "execution_count": null,
   "id": "9b0fe552-7333-475d-8bed-bfe339201784",
   "metadata": {},
   "outputs": [],
   "source": [
    "# Here a rotation and a tie is done while printing the mask\n",
    "spiced_melody.mask(Measure(2), Beat(1)).flip().add(Transposition(1)) >> Plot()"
   ]
  },
  {
   "cell_type": "code",
   "execution_count": null,
   "id": "59ea7957-d2ac-4958-85bc-42568003322e",
   "metadata": {},
   "outputs": [],
   "source": [
    "# Here a tie is done while printing the mask\n",
    "spiced_melody.mask(Measure(3), Beat(3)).join() >> Plot()"
   ]
  },
  {
   "cell_type": "code",
   "execution_count": null,
   "id": "69c8f20e-e431-4d5b-9797-2be888282a9f",
   "metadata": {},
   "outputs": [],
   "source": [
    "# Here is the final result of the Clip itself unmasked\n",
    "spiced_melody >> Plot()"
   ]
  },
  {
   "cell_type": "code",
   "execution_count": null,
   "id": "a9d7642e-8029-4652-b785-4a632b749281",
   "metadata": {},
   "outputs": [],
   "source": [
    "clip_togehter**(Velocity(80), Channel(2)) // spiced_melody * 4 >> Plot() >> Play()"
   ]
  }
 ],
 "metadata": {
  "kernelspec": {
   "display_name": "Python 3 (ipykernel)",
   "language": "python",
   "name": "python3"
  },
  "language_info": {
   "codemirror_mode": {
    "name": "ipython",
    "version": 3
   },
   "file_extension": ".py",
   "mimetype": "text/x-python",
   "name": "python",
   "nbconvert_exporter": "python",
   "pygments_lexer": "ipython3",
   "version": "3.13.1"
  }
 },
 "nbformat": 4,
 "nbformat_minor": 5
}
