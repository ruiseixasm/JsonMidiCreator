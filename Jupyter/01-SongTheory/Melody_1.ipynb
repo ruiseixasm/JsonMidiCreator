{
 "cells": [
  {
   "cell_type": "markdown",
   "id": "037a410c-ff86-4c47-9a32-711f6747dc00",
   "metadata": {},
   "source": [
    "# Start by importing the **JsonMidiCreator** library"
   ]
  },
  {
   "cell_type": "code",
   "execution_count": 2,
   "id": "62ae4455-661e-47ee-9409-0296b0cceeb4",
   "metadata": {},
   "outputs": [],
   "source": [
    "import sys, os\n",
    "project_root = os.path.abspath(os.path.join(os.getcwd(), \"../../\"))  # You are currently in \"/Jupyter/[project]\" folder\n",
    "src_path = os.path.join(project_root, \"src\")\n",
    "if src_path not in sys.path:\n",
    "    sys.path.append(src_path)\n",
    "\n",
    "from JsonMidiCreator import *"
   ]
  },
  {
   "cell_type": "markdown",
   "id": "e429044a-5dd4-4b84-87e8-97500d69b091",
   "metadata": {},
   "source": [
    "## Write the base notes for a Melody"
   ]
  },
  {
   "cell_type": "code",
   "execution_count": null,
   "id": "5ab87547-ed65-48b5-8930-d230683074f8",
   "metadata": {},
   "outputs": [],
   "source": []
  }
 ],
 "metadata": {
  "kernelspec": {
   "display_name": "Python 3 (ipykernel)",
   "language": "python",
   "name": "python3"
  },
  "language_info": {
   "codemirror_mode": {
    "name": "ipython",
    "version": 3
   },
   "file_extension": ".py",
   "mimetype": "text/x-python",
   "name": "python",
   "nbconvert_exporter": "python",
   "pygments_lexer": "ipython3",
   "version": "3.13.1"
  }
 },
 "nbformat": 4,
 "nbformat_minor": 5
}
