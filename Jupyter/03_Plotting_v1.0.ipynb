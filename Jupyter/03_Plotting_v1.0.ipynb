{
 "cells": [
  {
   "cell_type": "code",
   "execution_count": null,
   "id": "ee71d915-a6c0-4eb7-888e-76510e5324f8",
   "metadata": {},
   "outputs": [],
   "source": [
    "import sys, os\n",
    "project_root = os.path.abspath(os.path.join(os.getcwd(), \"../\"))  # You are currently in \"/Jupyter\" folder\n",
    "src_path = os.path.join(project_root, \"src\")\n",
    "if src_path not in sys.path:\n",
    "    sys.path.append(src_path)\n",
    "\n",
    "from JsonMidiCreator import *"
   ]
  },
  {
   "cell_type": "code",
   "execution_count": null,
   "id": "e5fbcb5c-729e-4e8d-9e4a-c80d70a8284a",
   "metadata": {},
   "outputs": [],
   "source": [
    "clip_with_rests = Note() / Rest()"
   ]
  },
  {
   "cell_type": "code",
   "execution_count": null,
   "id": "6afa19f3-e2d3-474a-9a66-964bca903f93",
   "metadata": {},
   "outputs": [],
   "source": [
    "clip_with_rests >> Plot()"
   ]
  },
  {
   "cell_type": "code",
   "execution_count": null,
   "id": "d3054aca-8580-4fe4-833b-e9ad37a452d9",
   "metadata": {},
   "outputs": [],
   "source": [
    "son_clave = Note() / 3 / Rest() / (Note() * 2) / Rest() >> Stack()"
   ]
  },
  {
   "cell_type": "code",
   "execution_count": null,
   "id": "20db2174-0c60-4c98-8363-fd5ec8db2b5e",
   "metadata": {},
   "outputs": [],
   "source": [
    "son_clave >> Plot()"
   ]
  },
  {
   "cell_type": "code",
   "execution_count": null,
   "id": "d9e412f3-adef-4d98-a15c-46a727748e53",
   "metadata": {},
   "outputs": [],
   "source": [
    "son_clave << Nth(1, 2)**Foreach(1/4, 1/4)**Dotted()\n",
    "son_clave >>= Stack()"
   ]
  },
  {
   "cell_type": "code",
   "execution_count": null,
   "id": "a52aced1-0217-45a9-819a-6cbd90a1c502",
   "metadata": {},
   "outputs": [],
   "source": [
    "son_clave >> Plot()"
   ]
  },
  {
   "cell_type": "code",
   "execution_count": null,
   "id": "0e3e6e7f-d0f8-4ea6-858c-3136e7bd7e63",
   "metadata": {},
   "outputs": [],
   "source": [
    "son_clave[0] // Position() // Fraction()"
   ]
  },
  {
   "cell_type": "code",
   "execution_count": null,
   "id": "80e7d924-80ce-486b-bcce-711b34b86d88",
   "metadata": {},
   "outputs": [],
   "source": [
    "son_clave[4] // Position() // Fraction()"
   ]
  },
  {
   "cell_type": "code",
   "execution_count": null,
   "id": "8c834caf-b991-4a0f-93bc-b1970ceb5e66",
   "metadata": {},
   "outputs": [],
   "source": [
    "son_clave >> Play()"
   ]
  },
  {
   "cell_type": "code",
   "execution_count": null,
   "id": "15977117-2c6a-420d-a656-1bbdf68f687c",
   "metadata": {},
   "outputs": [],
   "source": [
    "son_clave * 4 >> Plot()"
   ]
  },
  {
   "cell_type": "code",
   "execution_count": null,
   "id": "e90df34a-8dc0-482b-a5f9-9f3cef1a1377",
   "metadata": {},
   "outputs": [],
   "source": [
    "son_clave >> Reverse() >> Plot()"
   ]
  },
  {
   "cell_type": "code",
   "execution_count": null,
   "id": "2ed3185a-7ed3-4f88-ac9b-8266002d756d",
   "metadata": {},
   "outputs": [],
   "source": [
    "son_clave @ Reverse() * 4 >> Plot() >> Play()"
   ]
  }
 ],
 "metadata": {
  "kernelspec": {
   "display_name": "Python 3 (ipykernel)",
   "language": "python",
   "name": "python3"
  },
  "language_info": {
   "codemirror_mode": {
    "name": "ipython",
    "version": 3
   },
   "file_extension": ".py",
   "mimetype": "text/x-python",
   "name": "python",
   "nbconvert_exporter": "python",
   "pygments_lexer": "ipython3",
   "version": "3.13.1"
  }
 },
 "nbformat": 4,
 "nbformat_minor": 5
}
