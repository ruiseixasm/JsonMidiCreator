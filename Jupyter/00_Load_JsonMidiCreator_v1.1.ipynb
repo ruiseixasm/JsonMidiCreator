{
 "cells": [
  {
   "cell_type": "code",
   "execution_count": 1,
   "id": "5c80b7eb-1eff-48b0-9a1f-926665287e14",
   "metadata": {},
   "outputs": [],
   "source": [
    "import sys, os\n",
    "project_root = os.path.abspath(os.path.join(os.getcwd(), \"../\"))  # You are currently in \"/Jupyter\" folder\n",
    "src_path = os.path.join(project_root, \"src\")\n",
    "if src_path not in sys.path:\n",
    "    sys.path.append(src_path)\n",
    "\n",
    "from JsonMidiCreator import *"
   ]
  },
  {
   "cell_type": "code",
   "execution_count": null,
   "id": "d2224a0c-1407-462d-82c5-ec653319d053",
   "metadata": {},
   "outputs": [],
   "source": []
  }
 ],
 "metadata": {
  "kernelspec": {
   "display_name": "Python 3 (ipykernel)",
   "language": "python",
   "name": "python3"
  },
  "language_info": {
   "codemirror_mode": {
    "name": "ipython",
    "version": 3
   },
   "file_extension": ".py",
   "mimetype": "text/x-python",
   "name": "python",
   "nbconvert_exporter": "python",
   "pygments_lexer": "ipython3",
   "version": "3.13.1"
  }
 },
 "nbformat": 4,
 "nbformat_minor": 5
}
